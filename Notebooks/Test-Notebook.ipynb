{
 "cells": [
  {
   "cell_type": "markdown",
   "metadata": {},
   "source": [
    "### **Data loading and preprcessing**"
   ]
  },
  {
   "cell_type": "code",
   "execution_count": null,
   "metadata": {},
   "outputs": [],
   "source": [
    "import pandas as pd\n",
    "import numpy as np\n",
    "import re\n",
    "import string\n",
    "import nltk\n",
    "from nltk.corpus import stopwords\n",
    "from nltk.tokenize import word_tokenize\n",
    "\n",
    "nltk.download('punkt')\n",
    "nltk.download('stopwords')"
   ]
  },
  {
   "cell_type": "code",
   "execution_count": 92,
   "metadata": {},
   "outputs": [],
   "source": [
    "train_df = pd.read_excel('News_train.xlsx')\n",
    "test_df = pd.read_excel('News_test.xlsx')"
   ]
  },
  {
   "cell_type": "code",
   "execution_count": 93,
   "metadata": {},
   "outputs": [],
   "source": [
    "# Load Arabic stop words\n",
    "arabic_stopwords = set(stopwords.words('arabic'))\n",
    "\n",
    "def preprocess_text(text):\n",
    "    # Remove English characters\n",
    "    text = re.sub(r'[A-Za-z]', '', text)\n",
    "    # Remove \"ال\"\n",
    "    text = re.sub(r'\\bال', '', text)\n",
    "    # Remove Arabic diacritical marks (الحركات)\n",
    "    diacritics = re.compile(r'[\\u0617-\\u061A\\u064B-\\u0652]')\n",
    "    text = re.sub(diacritics, '', text)\n",
    "    # Remove punctuation and replace with space\n",
    "    text = re.sub(f'[{re.escape(string.punctuation)}]', ' ', text)\n",
    "    # Tokenize text\n",
    "    tokens = word_tokenize(text)\n",
    "    # Convert همزات / تاء مربوطة\n",
    "    tokens = [re.sub(\"[إأٱآا]\", \"ا\", token) for token in tokens]\n",
    "    tokens = [re.sub(\"ؤ\", \"ء\", token) for token in tokens]\n",
    "    tokens = [re.sub(\"ئ\", \"ء\", token) for token in tokens]\n",
    "    tokens = [re.sub(\"ة\", \"ه\", token) for token in tokens]\n",
    "    # Remove stop words\n",
    "    tokens = [token for token in tokens if token not in arabic_stopwords]\n",
    "    # Join tokens back to text\n",
    "    cleaned_text = ' '.join(tokens)\n",
    "    # Remove extra spaces\n",
    "    cleaned_text = re.sub(r'\\s+', ' ', cleaned_text).strip()\n",
    "    return cleaned_text\n"
   ]
  },
  {
   "cell_type": "code",
   "execution_count": 94,
   "metadata": {},
   "outputs": [],
   "source": [
    "train_df['News'] = train_df['News'].apply(preprocess_text)\n",
    "test_df['News'] = test_df['News'].apply(preprocess_text)"
   ]
  },
  {
   "cell_type": "code",
   "execution_count": 95,
   "metadata": {},
   "outputs": [],
   "source": [
    "X_train = train_df['News']\n",
    "X_test = test_df['News']\n",
    "y_train = train_df['Type']\n",
    "y_test = test_df['Type']"
   ]
  },
  {
   "cell_type": "code",
   "execution_count": 100,
   "metadata": {},
   "outputs": [],
   "source": [
    "from sklearn.preprocessing import LabelEncoder\n",
    "import torch\n",
    "# Encode labels\n",
    "label_encoder = LabelEncoder()\n",
    "y_train = label_encoder.fit_transform(y_train)\n",
    "y_train = torch.tensor(y_train)\n",
    "\n",
    "y_test = label_encoder.fit_transform(y_test)\n",
    "y_test = torch.tensor(y_test)"
   ]
  },
  {
   "cell_type": "markdown",
   "metadata": {},
   "source": [
    "### **Word2Vec Skip Gram + Logistic Regression**"
   ]
  },
  {
   "cell_type": "code",
   "execution_count": 101,
   "metadata": {},
   "outputs": [],
   "source": [
    "import gensim\n",
    "import numpy as np\n",
    "\n",
    "# Load the pre-trained Word2Vec Skip-Gram model\n",
    "w2v_model_sg = gensim.models.Word2Vec.load('C:/Users/SaifD/Desktop/NLP-Final/wiki_sg_300/wikipedia_sg_300')\n",
    "\n",
    "# Initialize lists for storing tokens and embeddings\n",
    "OOV_tokens_sg = []\n",
    "train_tokens_sg = []\n",
    "val_tokens_sg = []\n",
    "\n",
    "def get_doc_vec_sg(sent, model, data_type):\n",
    "    w2v_embeddings = []\n",
    "    tokens = sent.split()\n",
    "    for word in tokens:\n",
    "        try:\n",
    "            if data_type == 'train':\n",
    "                w2v_embeddings.append(model.wv[word])\n",
    "                train_tokens_sg.append(word)\n",
    "            else:\n",
    "                w2v_embeddings.append(model.wv[word])\n",
    "                val_tokens_sg.append(word)\n",
    "        except KeyError:\n",
    "            OOV_tokens_sg.append(word)\n",
    "            continue\n",
    "    if len(w2v_embeddings) == 0:\n",
    "        return None\n",
    "    return np.mean(w2v_embeddings, axis=0)\n",
    "\n",
    "# Generate embeddings for training and validation sets\n",
    "X_train_w2v_embeddings_sg = X_train.apply(lambda sent: get_doc_vec_sg(sent, w2v_model_sg, 'train'))\n",
    "X_val_w2v_embeddings_sg = X_test.apply(lambda sent: get_doc_vec_sg(sent, w2v_model_sg, 'test'))\n",
    "\n",
    "# Initialize lists to store embeddings\n",
    "X_train_w2v_embeddings_list_sg = []\n",
    "X_test_w2v_embeddings_list_sg = []\n",
    "\n",
    "# Convert embeddings from the pandas Series to lists and handle None values\n",
    "zero_vector = np.zeros(w2v_model_sg.vector_size)\n",
    "\n",
    "for embedding in X_train_w2v_embeddings_sg:\n",
    "    if embedding is not None:\n",
    "        X_train_w2v_embeddings_list_sg.append(embedding)\n",
    "    else:\n",
    "        X_train_w2v_embeddings_list_sg.append(zero_vector)\n",
    "\n",
    "for embedding in X_val_w2v_embeddings_sg:\n",
    "    if embedding is not None:\n",
    "        X_test_w2v_embeddings_list_sg.append(embedding)\n",
    "    else:\n",
    "        X_test_w2v_embeddings_list_sg.append(zero_vector)\n",
    "\n",
    "# Convert lists to numpy arrays\n",
    "X_train_w2v_embeddings_array_sg = np.array(X_train_w2v_embeddings_list_sg)\n",
    "X_test_w2v_embeddings_array_sg = np.array(X_test_w2v_embeddings_list_sg)"
   ]
  },
  {
   "cell_type": "markdown",
   "metadata": {},
   "source": [
    "**Word2Vec with Skip Gram with Logistic Regression**"
   ]
  },
  {
   "cell_type": "code",
   "execution_count": 102,
   "metadata": {},
   "outputs": [
    {
     "name": "stdout",
     "output_type": "stream",
     "text": [
      "Accuracy (Logistic Regression): 0.862\n",
      "Classification Report (Logistic Regression):\n",
      "              precision    recall  f1-score   support\n",
      "\n",
      "           0       0.81      0.72      0.76       200\n",
      "           1       0.84      0.95      0.89       512\n",
      "           2       0.95      0.95      0.95       200\n",
      "           3       0.93      0.45      0.61        88\n",
      "\n",
      "    accuracy                           0.86      1000\n",
      "   macro avg       0.88      0.77      0.81      1000\n",
      "weighted avg       0.87      0.86      0.85      1000\n",
      "\n"
     ]
    }
   ],
   "source": [
    "from sklearn.linear_model import LogisticRegression\n",
    "from sklearn.metrics import accuracy_score, classification_report\n",
    "\n",
    "LR_classifier = LogisticRegression(max_iter=1000)\n",
    "LR_classifier.fit(X_train_w2v_embeddings_array_sg, y_train)\n",
    "\n",
    "y_pred_lr = LR_classifier.predict(X_test_w2v_embeddings_array_sg)\n",
    "\n",
    "# Evaluate the model\n",
    "accuracy_lr = accuracy_score(y_test, y_pred_lr)\n",
    "print(f'Accuracy (Logistic Regression): {accuracy_lr}')\n",
    "print('Classification Report (Logistic Regression):')\n",
    "print(classification_report(y_test, y_pred_lr))"
   ]
  },
  {
   "cell_type": "markdown",
   "metadata": {},
   "source": [
    "### **BERT Word embedding**"
   ]
  },
  {
   "cell_type": "code",
   "execution_count": 103,
   "metadata": {},
   "outputs": [
    {
     "name": "stderr",
     "output_type": "stream",
     "text": [
      "c:\\Users\\SaifD\\AppData\\Local\\Programs\\Python\\Python311\\Lib\\site-packages\\huggingface_hub\\file_download.py:1132: FutureWarning: `resume_download` is deprecated and will be removed in version 1.0.0. Downloads always resume when possible. If you want to force a new download, use `force_download=True`.\n",
      "  warnings.warn(\n"
     ]
    }
   ],
   "source": [
    "from transformers import BertTokenizer, BertModel\n",
    "import torch\n",
    "\n",
    "# Load the tokenizer and model\n",
    "model_name = \"aubmindlab/bert-base-arabert\"\n",
    "tokenizer = BertTokenizer.from_pretrained(model_name)\n",
    "model = BertModel.from_pretrained(model_name)\n",
    "\n",
    "def get_bert_embeddings(text):\n",
    "    # Tokenize input text\n",
    "    inputs = tokenizer(text, return_tensors='pt', padding=True, truncation=True, max_length=512)\n",
    "    # Get BERT embeddings\n",
    "    with torch.no_grad():\n",
    "        outputs = model(**inputs)\n",
    "    # Get the embeddings of the [CLS] token\n",
    "    cls_embeddings = outputs.last_hidden_state[:, 0, :] # [batch_size, sequence_length, hidden_size]\n",
    "    return cls_embeddings.numpy()"
   ]
  },
  {
   "cell_type": "code",
   "execution_count": 104,
   "metadata": {},
   "outputs": [],
   "source": [
    "X_train_BERT_embeddings = np.vstack(X_train.apply(lambda x: get_bert_embeddings(x)).values)\n",
    "X_test_BERT_embeddings = np.vstack(X_test.apply(lambda x: get_bert_embeddings(x)).values)"
   ]
  },
  {
   "cell_type": "code",
   "execution_count": 105,
   "metadata": {},
   "outputs": [
    {
     "name": "stdout",
     "output_type": "stream",
     "text": [
      "Accuracy (Logistic Regression): 0.849\n",
      "Classification Report (Logistic Regression):\n",
      "              precision    recall  f1-score   support\n",
      "\n",
      "           0       0.73      0.72      0.72       200\n",
      "           1       0.85      0.92      0.88       512\n",
      "           2       0.96      0.95      0.96       200\n",
      "           3       0.91      0.47      0.62        88\n",
      "\n",
      "    accuracy                           0.85      1000\n",
      "   macro avg       0.86      0.77      0.80      1000\n",
      "weighted avg       0.85      0.85      0.84      1000\n",
      "\n"
     ]
    }
   ],
   "source": [
    "LR_classifier = LogisticRegression(max_iter=1000)\n",
    "LR_classifier.fit(X_train_BERT_embeddings, y_train)\n",
    "\n",
    "y_pred_lr = LR_classifier.predict(X_test_BERT_embeddings)\n",
    "\n",
    "# Evaluate the model\n",
    "accuracy_lr = accuracy_score(y_test, y_pred_lr)\n",
    "print(f'Accuracy (Logistic Regression): {accuracy_lr}')\n",
    "print('Classification Report (Logistic Regression):')\n",
    "print(classification_report(y_test, y_pred_lr))"
   ]
  },
  {
   "cell_type": "markdown",
   "metadata": {},
   "source": [
    "## **BERT Model**"
   ]
  },
  {
   "cell_type": "code",
   "execution_count": 107,
   "metadata": {},
   "outputs": [
    {
     "name": "stderr",
     "output_type": "stream",
     "text": [
      "C:\\Users\\SaifD\\AppData\\Local\\Temp\\ipykernel_13056\\4003032594.py:2: UserWarning: To copy construct from a tensor, it is recommended to use sourceTensor.clone().detach() or sourceTensor.clone().detach().requires_grad_(True), rather than torch.tensor(sourceTensor).\n",
      "  y_train = torch.tensor(y_train, dtype=torch.long)\n",
      "C:\\Users\\SaifD\\AppData\\Local\\Temp\\ipykernel_13056\\4003032594.py:3: UserWarning: To copy construct from a tensor, it is recommended to use sourceTensor.clone().detach() or sourceTensor.clone().detach().requires_grad_(True), rather than torch.tensor(sourceTensor).\n",
      "  y_test = torch.tensor(y_test, dtype=torch.long)\n"
     ]
    }
   ],
   "source": [
    "# Convert labels to torch.long\n",
    "y_train = torch.tensor(y_train, dtype=torch.long)\n",
    "y_test = torch.tensor(y_test, dtype=torch.long)"
   ]
  },
  {
   "cell_type": "code",
   "execution_count": 109,
   "metadata": {},
   "outputs": [
    {
     "name": "stderr",
     "output_type": "stream",
     "text": [
      "Some weights of BertForSequenceClassification were not initialized from the model checkpoint at aubmindlab/bert-base-arabert and are newly initialized: ['classifier.bias', 'classifier.weight']\n",
      "You should probably TRAIN this model on a down-stream task to be able to use it for predictions and inference.\n"
     ]
    },
    {
     "name": "stdout",
     "output_type": "stream",
     "text": [
      "Epoch 1/3, Training Loss: 0.35\n",
      "Epoch 1/3, Accuracy: 0.91\n",
      "Epoch 2/3, Training Loss: 0.15\n",
      "Epoch 2/3, Accuracy: 0.89\n",
      "Epoch 3/3, Training Loss: 0.08\n",
      "Epoch 3/3, Accuracy: 0.88\n",
      "              precision    recall  f1-score   support\n",
      "\n",
      "    economic       0.71      0.89      0.79       200\n",
      "    politics       0.92      0.90      0.91       512\n",
      "       sport       0.98      0.97      0.98       200\n",
      "        tech       0.96      0.55      0.70        88\n",
      "\n",
      "    accuracy                           0.88      1000\n",
      "   macro avg       0.90      0.83      0.85      1000\n",
      "weighted avg       0.90      0.88      0.88      1000\n",
      "\n"
     ]
    }
   ],
   "source": [
    "import torch\n",
    "from torch.utils.data import DataLoader, TensorDataset\n",
    "from transformers import BertTokenizer, AutoModelForSequenceClassification, AdamW\n",
    "\n",
    " \n",
    "model_name = 'aubmindlab/bert-base-arabert'\n",
    "tokenizer = BertTokenizer.from_pretrained(model_name)\n",
    "model = AutoModelForSequenceClassification.from_pretrained(model_name, num_labels=4)\n",
    " \n",
    "def tokenize(sentences, tokenizer, max_len):\n",
    "    tokens = tokenizer(sentences, padding=True, truncation=True, return_tensors=\"pt\", max_length=max_len)\n",
    "    return tokens['input_ids'], tokens['attention_mask']\n",
    " \n",
    "train_sentences = X_train.tolist()\n",
    "test_sentences = X_test.tolist()\n",
    "\n",
    "# Find the maximum sequence length\n",
    "max_sequence_len = max(len(x.split()) for x in train_sentences + test_sentences)\n",
    "\n",
    "# Tokenize data\n",
    "train_input_ids, train_attention_mask = tokenize(train_sentences, tokenizer, max_sequence_len)\n",
    "test_input_ids, test_attention_mask = tokenize(test_sentences, tokenizer, max_sequence_len)\n",
    "\n",
    "# Create TensorDatasets\n",
    "train_dataset = TensorDataset(train_input_ids, train_attention_mask, y_train)\n",
    "test_dataset = TensorDataset(test_input_ids, test_attention_mask, y_test)\n",
    "\n",
    "# Create DataLoaders\n",
    "batch_size = 16\n",
    "train_loader = DataLoader(train_dataset, batch_size=batch_size, shuffle=True)\n",
    "test_loader = DataLoader(test_dataset, batch_size=batch_size, shuffle=False)\n",
    " \n",
    "device = torch.device('cuda' if torch.cuda.is_available() else 'cpu')\n",
    "model.to(device)\n",
    " \n",
    "optimizer = AdamW(model.parameters(), lr=2e-5)\n",
    " \n",
    "# Training loop\n",
    "epochs = 3\n",
    "for epoch in range(epochs):\n",
    "    model.train()\n",
    "    total_loss = 0\n",
    "    for batch in train_loader:\n",
    "        optimizer.zero_grad()\n",
    "        input_ids, attention_mask, labels = [item.to(device) for item in batch]\n",
    "        outputs = model(input_ids, attention_mask=attention_mask, labels=labels)\n",
    "        loss = outputs.loss\n",
    "        total_loss += loss.item()\n",
    "        loss.backward()\n",
    "        optimizer.step()\n",
    "\n",
    "    avg_train_loss = total_loss / len(train_loader)\n",
    "    print(f'Epoch {epoch+1}/{epochs}, Training Loss: {avg_train_loss:.2f}')\n",
    "\n",
    "    model.eval()\n",
    "    correct_predictions = 0\n",
    "    total_predictions = 0\n",
    "    all_preds = []\n",
    "    all_labels = []\n",
    "    with torch.no_grad():\n",
    "        for batch in test_loader:\n",
    "            input_ids, attention_mask, labels = [item.to(device) for item in batch]\n",
    "            outputs = model(input_ids, attention_mask=attention_mask)\n",
    "            predictions = torch.argmax(outputs.logits, dim=1)\n",
    "            correct_predictions += (predictions == labels).sum().item()\n",
    "            total_predictions += labels.size(0)\n",
    "            all_preds.extend(predictions.cpu().numpy())\n",
    "            all_labels.extend(labels.cpu().numpy())\n",
    "\n",
    "    accuracy = correct_predictions / total_predictions\n",
    "    print(f'Epoch {epoch+1}/{epochs}, Accuracy: {accuracy:.2f}')\n",
    "\n",
    "# Print classification report\n",
    "print(classification_report(all_labels, all_preds, target_names=label_encoder.classes_))"
   ]
  }
 ],
 "metadata": {
  "kernelspec": {
   "display_name": "Python 3",
   "language": "python",
   "name": "python3"
  },
  "language_info": {
   "codemirror_mode": {
    "name": "ipython",
    "version": 3
   },
   "file_extension": ".py",
   "mimetype": "text/x-python",
   "name": "python",
   "nbconvert_exporter": "python",
   "pygments_lexer": "ipython3",
   "version": "3.11.9"
  }
 },
 "nbformat": 4,
 "nbformat_minor": 2
}
